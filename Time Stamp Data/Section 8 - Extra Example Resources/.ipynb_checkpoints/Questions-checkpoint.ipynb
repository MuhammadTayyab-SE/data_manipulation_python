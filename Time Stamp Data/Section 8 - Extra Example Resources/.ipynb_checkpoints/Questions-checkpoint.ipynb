{
 "cells": [
  {
   "cell_type": "markdown",
   "metadata": {},
   "source": [
    "# Extra Examples - TimeSeries\n",
    "\n",
    "Like many people, I wonder where my life would be if I just bought some bitcoins back in 2009. So let's rub salt into the wound with this crypto dataset: https://www.kaggle.com/taniaj/cryptocurrency-market-history-coinmarketcap\n",
    "\n",
    "Our exercise is thus:\n",
    "\n",
    "1. Index the df by symbol and date\n",
    "2. Find the top 5 symbols with the highest market cap (over all time)\n",
    "3. Plot those samples - date vs closing price\n",
    "4. Its a bit hard to see, smooth the plots with a window of 5 days\n",
    "4. Create a new column that indicates a simple 1 or 0 for growth or not growth (compared to prev day)\n",
    "5. Identify regions in the top coin where we had positive growth for an entire fortnight (aka 10 entries, using the above col)"
   ]
  },
  {
   "cell_type": "code",
   "execution_count": 1,
   "metadata": {
    "ExecuteTime": {
     "end_time": "2020-02-04T01:37:15.649626Z",
     "start_time": "2020-02-04T01:37:14.755238Z"
    },
    "scrolled": true
   },
   "outputs": [
    {
     "data": {
      "text/html": [
       "<div>\n",
       "<style scoped>\n",
       "    .dataframe tbody tr th:only-of-type {\n",
       "        vertical-align: middle;\n",
       "    }\n",
       "\n",
       "    .dataframe tbody tr th {\n",
       "        vertical-align: top;\n",
       "    }\n",
       "\n",
       "    .dataframe thead th {\n",
       "        text-align: right;\n",
       "    }\n",
       "</style>\n",
       "<table border=\"1\" class=\"dataframe\">\n",
       "  <thead>\n",
       "    <tr style=\"text-align: right;\">\n",
       "      <th></th>\n",
       "      <th>Date</th>\n",
       "      <th>Symbol</th>\n",
       "      <th>Open</th>\n",
       "      <th>High</th>\n",
       "      <th>Low</th>\n",
       "      <th>Close</th>\n",
       "      <th>Volume</th>\n",
       "      <th>Market Cap</th>\n",
       "    </tr>\n",
       "  </thead>\n",
       "  <tbody>\n",
       "    <tr>\n",
       "      <th>0</th>\n",
       "      <td>2015-11-12</td>\n",
       "      <td>$$$</td>\n",
       "      <td>0.000013</td>\n",
       "      <td>0.000017</td>\n",
       "      <td>0.000013</td>\n",
       "      <td>0.000017</td>\n",
       "      <td>142.0</td>\n",
       "      <td>NaN</td>\n",
       "    </tr>\n",
       "    <tr>\n",
       "      <th>1</th>\n",
       "      <td>2015-11-13</td>\n",
       "      <td>$$$</td>\n",
       "      <td>0.000017</td>\n",
       "      <td>0.000033</td>\n",
       "      <td>0.000016</td>\n",
       "      <td>0.000024</td>\n",
       "      <td>85.0</td>\n",
       "      <td>NaN</td>\n",
       "    </tr>\n",
       "    <tr>\n",
       "      <th>2</th>\n",
       "      <td>2015-11-14</td>\n",
       "      <td>$$$</td>\n",
       "      <td>0.000024</td>\n",
       "      <td>0.000053</td>\n",
       "      <td>0.000023</td>\n",
       "      <td>0.000030</td>\n",
       "      <td>131.0</td>\n",
       "      <td>NaN</td>\n",
       "    </tr>\n",
       "    <tr>\n",
       "      <th>3</th>\n",
       "      <td>2015-11-15</td>\n",
       "      <td>$$$</td>\n",
       "      <td>0.000030</td>\n",
       "      <td>0.000063</td>\n",
       "      <td>0.000022</td>\n",
       "      <td>0.000035</td>\n",
       "      <td>132.0</td>\n",
       "      <td>NaN</td>\n",
       "    </tr>\n",
       "    <tr>\n",
       "      <th>4</th>\n",
       "      <td>2015-11-16</td>\n",
       "      <td>$$$</td>\n",
       "      <td>0.000035</td>\n",
       "      <td>0.000046</td>\n",
       "      <td>0.000032</td>\n",
       "      <td>0.000036</td>\n",
       "      <td>280.0</td>\n",
       "      <td>NaN</td>\n",
       "    </tr>\n",
       "  </tbody>\n",
       "</table>\n",
       "</div>"
      ],
      "text/plain": [
       "        Date Symbol      Open      High       Low     Close  Volume  \\\n",
       "0 2015-11-12    $$$  0.000013  0.000017  0.000013  0.000017   142.0   \n",
       "1 2015-11-13    $$$  0.000017  0.000033  0.000016  0.000024    85.0   \n",
       "2 2015-11-14    $$$  0.000024  0.000053  0.000023  0.000030   131.0   \n",
       "3 2015-11-15    $$$  0.000030  0.000063  0.000022  0.000035   132.0   \n",
       "4 2015-11-16    $$$  0.000035  0.000046  0.000032  0.000036   280.0   \n",
       "\n",
       "   Market Cap  \n",
       "0         NaN  \n",
       "1         NaN  \n",
       "2         NaN  \n",
       "3         NaN  \n",
       "4         NaN  "
      ]
     },
     "execution_count": 1,
     "metadata": {},
     "output_type": "execute_result"
    }
   ],
   "source": [
    "import pandas as pd\n",
    "\n",
    "df = pd.read_csv(\"all_currencies.csv\", index_col=0, parse_dates=[\"Date\"])\n",
    "df.head()"
   ]
  },
  {
   "cell_type": "markdown",
   "metadata": {},
   "source": [
    "## Setting the index"
   ]
  },
  {
   "cell_type": "code",
   "execution_count": 5,
   "metadata": {
    "ExecuteTime": {
     "end_time": "2020-02-04T02:22:17.386511Z",
     "start_time": "2020-02-04T02:22:17.383526Z"
    }
   },
   "outputs": [],
   "source": [
    "# your code here\n",
    "df = df.set_index(['Date','Symbol']).sort_index()"
   ]
  },
  {
   "cell_type": "code",
   "execution_count": 4,
   "metadata": {},
   "outputs": [
    {
     "data": {
      "text/html": [
       "<div>\n",
       "<style scoped>\n",
       "    .dataframe tbody tr th:only-of-type {\n",
       "        vertical-align: middle;\n",
       "    }\n",
       "\n",
       "    .dataframe tbody tr th {\n",
       "        vertical-align: top;\n",
       "    }\n",
       "\n",
       "    .dataframe thead th {\n",
       "        text-align: right;\n",
       "    }\n",
       "</style>\n",
       "<table border=\"1\" class=\"dataframe\">\n",
       "  <thead>\n",
       "    <tr style=\"text-align: right;\">\n",
       "      <th></th>\n",
       "      <th></th>\n",
       "      <th>Open</th>\n",
       "      <th>High</th>\n",
       "      <th>Low</th>\n",
       "      <th>Close</th>\n",
       "      <th>Volume</th>\n",
       "      <th>Market Cap</th>\n",
       "    </tr>\n",
       "    <tr>\n",
       "      <th>Date</th>\n",
       "      <th>Symbol</th>\n",
       "      <th></th>\n",
       "      <th></th>\n",
       "      <th></th>\n",
       "      <th></th>\n",
       "      <th></th>\n",
       "      <th></th>\n",
       "    </tr>\n",
       "  </thead>\n",
       "  <tbody>\n",
       "    <tr>\n",
       "      <th rowspan=\"5\" valign=\"top\">2013-04-28</th>\n",
       "      <th>BTC</th>\n",
       "      <td>135.300000</td>\n",
       "      <td>135.980000</td>\n",
       "      <td>132.100000</td>\n",
       "      <td>134.210000</td>\n",
       "      <td>NaN</td>\n",
       "      <td>1.500520e+09</td>\n",
       "    </tr>\n",
       "    <tr>\n",
       "      <th>LTC</th>\n",
       "      <td>4.300000</td>\n",
       "      <td>4.400000</td>\n",
       "      <td>4.180000</td>\n",
       "      <td>4.350000</td>\n",
       "      <td>NaN</td>\n",
       "      <td>7.377340e+07</td>\n",
       "    </tr>\n",
       "    <tr>\n",
       "      <th>NMC</th>\n",
       "      <td>1.100000</td>\n",
       "      <td>1.120000</td>\n",
       "      <td>1.080000</td>\n",
       "      <td>1.110000</td>\n",
       "      <td>NaN</td>\n",
       "      <td>5.969080e+06</td>\n",
       "    </tr>\n",
       "    <tr>\n",
       "      <th>NVC</th>\n",
       "      <td>4.220000</td>\n",
       "      <td>4.250000</td>\n",
       "      <td>4.040000</td>\n",
       "      <td>4.250000</td>\n",
       "      <td>NaN</td>\n",
       "      <td>1.155160e+06</td>\n",
       "    </tr>\n",
       "    <tr>\n",
       "      <th>PPC</th>\n",
       "      <td>0.386958</td>\n",
       "      <td>0.404659</td>\n",
       "      <td>0.376287</td>\n",
       "      <td>0.386525</td>\n",
       "      <td>NaN</td>\n",
       "      <td>7.255800e+06</td>\n",
       "    </tr>\n",
       "    <tr>\n",
       "      <th>...</th>\n",
       "      <th>...</th>\n",
       "      <td>...</td>\n",
       "      <td>...</td>\n",
       "      <td>...</td>\n",
       "      <td>...</td>\n",
       "      <td>...</td>\n",
       "      <td>...</td>\n",
       "    </tr>\n",
       "    <tr>\n",
       "      <th rowspan=\"5\" valign=\"top\">2018-09-27</th>\n",
       "      <th>ZOI</th>\n",
       "      <td>0.068958</td>\n",
       "      <td>0.085504</td>\n",
       "      <td>0.062276</td>\n",
       "      <td>0.084638</td>\n",
       "      <td>12330.0</td>\n",
       "      <td>1.270230e+06</td>\n",
       "    </tr>\n",
       "    <tr>\n",
       "      <th>ZP</th>\n",
       "      <td>0.408762</td>\n",
       "      <td>0.456677</td>\n",
       "      <td>0.373954</td>\n",
       "      <td>0.432370</td>\n",
       "      <td>217992.0</td>\n",
       "      <td>NaN</td>\n",
       "    </tr>\n",
       "    <tr>\n",
       "      <th>ZSE</th>\n",
       "      <td>0.006862</td>\n",
       "      <td>0.009066</td>\n",
       "      <td>0.006129</td>\n",
       "      <td>0.009013</td>\n",
       "      <td>184.0</td>\n",
       "      <td>NaN</td>\n",
       "    </tr>\n",
       "    <tr>\n",
       "      <th>ZYD</th>\n",
       "      <td>0.004273</td>\n",
       "      <td>0.004567</td>\n",
       "      <td>0.004193</td>\n",
       "      <td>0.004540</td>\n",
       "      <td>4849.0</td>\n",
       "      <td>2.667700e+04</td>\n",
       "    </tr>\n",
       "    <tr>\n",
       "      <th>ZZC</th>\n",
       "      <td>0.086664</td>\n",
       "      <td>0.130541</td>\n",
       "      <td>0.067363</td>\n",
       "      <td>0.073475</td>\n",
       "      <td>91.0</td>\n",
       "      <td>1.686910e+05</td>\n",
       "    </tr>\n",
       "  </tbody>\n",
       "</table>\n",
       "<p>632218 rows × 6 columns</p>\n",
       "</div>"
      ],
      "text/plain": [
       "                         Open        High         Low       Close    Volume  \\\n",
       "Date       Symbol                                                             \n",
       "2013-04-28 BTC     135.300000  135.980000  132.100000  134.210000       NaN   \n",
       "           LTC       4.300000    4.400000    4.180000    4.350000       NaN   \n",
       "           NMC       1.100000    1.120000    1.080000    1.110000       NaN   \n",
       "           NVC       4.220000    4.250000    4.040000    4.250000       NaN   \n",
       "           PPC       0.386958    0.404659    0.376287    0.386525       NaN   \n",
       "...                       ...         ...         ...         ...       ...   \n",
       "2018-09-27 ZOI       0.068958    0.085504    0.062276    0.084638   12330.0   \n",
       "           ZP        0.408762    0.456677    0.373954    0.432370  217992.0   \n",
       "           ZSE       0.006862    0.009066    0.006129    0.009013     184.0   \n",
       "           ZYD       0.004273    0.004567    0.004193    0.004540    4849.0   \n",
       "           ZZC       0.086664    0.130541    0.067363    0.073475      91.0   \n",
       "\n",
       "                     Market Cap  \n",
       "Date       Symbol                \n",
       "2013-04-28 BTC     1.500520e+09  \n",
       "           LTC     7.377340e+07  \n",
       "           NMC     5.969080e+06  \n",
       "           NVC     1.155160e+06  \n",
       "           PPC     7.255800e+06  \n",
       "...                         ...  \n",
       "2018-09-27 ZOI     1.270230e+06  \n",
       "           ZP               NaN  \n",
       "           ZSE              NaN  \n",
       "           ZYD     2.667700e+04  \n",
       "           ZZC     1.686910e+05  \n",
       "\n",
       "[632218 rows x 6 columns]"
      ]
     },
     "execution_count": 4,
     "metadata": {},
     "output_type": "execute_result"
    }
   ],
   "source": [
    "df"
   ]
  },
  {
   "cell_type": "markdown",
   "metadata": {},
   "source": [
    "## Finding the highest 5 market cap symbols"
   ]
  },
  {
   "cell_type": "code",
   "execution_count": 2,
   "metadata": {
    "ExecuteTime": {
     "end_time": "2020-02-04T02:22:20.433363Z",
     "start_time": "2020-02-04T02:22:20.430393Z"
    }
   },
   "outputs": [],
   "source": [
    "# your code here"
   ]
  },
  {
   "cell_type": "markdown",
   "metadata": {},
   "source": [
    "## Plotting the closing price for those five symbols"
   ]
  },
  {
   "cell_type": "code",
   "execution_count": 3,
   "metadata": {
    "ExecuteTime": {
     "end_time": "2020-02-04T02:22:22.489909Z",
     "start_time": "2020-02-04T02:22:22.486904Z"
    }
   },
   "outputs": [],
   "source": [
    "# your code here"
   ]
  },
  {
   "cell_type": "markdown",
   "metadata": {},
   "source": [
    "## Smooth it out"
   ]
  },
  {
   "cell_type": "code",
   "execution_count": 4,
   "metadata": {
    "ExecuteTime": {
     "end_time": "2020-02-04T02:22:29.779432Z",
     "start_time": "2020-02-04T02:22:29.775442Z"
    }
   },
   "outputs": [],
   "source": [
    "# your code here"
   ]
  },
  {
   "cell_type": "markdown",
   "metadata": {},
   "source": [
    "## Create new column for growth"
   ]
  },
  {
   "cell_type": "code",
   "execution_count": 5,
   "metadata": {
    "ExecuteTime": {
     "end_time": "2020-02-04T02:22:34.090543Z",
     "start_time": "2020-02-04T02:22:34.086552Z"
    }
   },
   "outputs": [],
   "source": [
    "# your code here"
   ]
  },
  {
   "cell_type": "markdown",
   "metadata": {},
   "source": [
    "## Determine periods of a stable growth in the top coin\n",
    "\n",
    "Note we're glossing over potentially missing days, etc. We could resample to fix this, but let's keep it a bit simple. You should be able to reuse some of the rolling code above to do this."
   ]
  },
  {
   "cell_type": "code",
   "execution_count": 6,
   "metadata": {
    "ExecuteTime": {
     "end_time": "2020-02-04T02:22:36.846194Z",
     "start_time": "2020-02-04T02:22:36.843180Z"
    }
   },
   "outputs": [],
   "source": [
    "# your code here"
   ]
  },
  {
   "cell_type": "markdown",
   "metadata": {},
   "source": [
    "If your result agrees with mine, it looks like 2017 was a great year for bitcoin, with lots of stable growth in May."
   ]
  }
 ],
 "metadata": {
  "kernelspec": {
   "display_name": "Python 3 (ipykernel)",
   "language": "python",
   "name": "python3"
  },
  "language_info": {
   "codemirror_mode": {
    "name": "ipython",
    "version": 3
   },
   "file_extension": ".py",
   "mimetype": "text/x-python",
   "name": "python",
   "nbconvert_exporter": "python",
   "pygments_lexer": "ipython3",
   "version": "3.9.12"
  }
 },
 "nbformat": 4,
 "nbformat_minor": 2
}
